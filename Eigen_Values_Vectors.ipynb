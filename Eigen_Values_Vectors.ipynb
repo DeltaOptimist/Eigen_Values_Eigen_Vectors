{
  "nbformat": 4,
  "nbformat_minor": 0,
  "metadata": {
    "colab": {
      "name": "Eigen_Values_Vectors.ipynb",
      "provenance": [],
      "collapsed_sections": []
    },
    "kernelspec": {
      "name": "python3",
      "display_name": "Python 3"
    },
    "language_info": {
      "name": "python"
    }
  },
  "cells": [
    {
      "cell_type": "markdown",
      "metadata": {
        "id": "LzI6wa2p0Di7"
      },
      "source": [
        "**Performing matrix multiplication and finding eigen vectors and eigen values using TensorFlow**"
      ]
    },
    {
      "cell_type": "markdown",
      "metadata": {
        "id": "PhEj30WIxcZ5"
      },
      "source": [
        "How to compute the eigenvalues and right eigenvectors of a given square array using NumPy library."
      ]
    },
    {
      "cell_type": "code",
      "metadata": {
        "colab": {
          "base_uri": "https://localhost:8080/"
        },
        "id": "dFZM_4BJxf0_",
        "outputId": "fe497db6-0fce-4a4f-93fa-28f9a3c07f9c"
      },
      "source": [
        "# importing numpy library\n",
        "import numpy as np\n",
        "\n",
        "# create numpy 2d-array\n",
        "m = np.array([[1, 2],\n",
        "\t\t\t[2, 3]])\n",
        "\n",
        "print(\"Printing the Original square array:\\n\",m)\n",
        "print()\n",
        "print('***************************************')\n",
        "print()\n",
        "# finding eigenvalues and eigenvectors\n",
        "w, v = np.linalg.eig(m)\n",
        "\n",
        "# printing eigen values\n",
        "print(\"Printing the Eigen values of the given square array:\\n\",w)\n",
        "print()\n",
        "# printing eigen vectors\n",
        "print(\"Printing Right Eigen Vectors of the given square array:\\n\",v)\n"
      ],
      "execution_count": 10,
      "outputs": [
        {
          "output_type": "stream",
          "text": [
            "Printing the Original square array:\n",
            " [[1 2]\n",
            " [2 3]]\n",
            "\n",
            "***************************************\n",
            "\n",
            "Printing the Eigen values of the given square array:\n",
            " [-0.23606798  4.23606798]\n",
            "\n",
            "Printing Right Eigen Vectors of the given square array:\n",
            " [[-0.85065081 -0.52573111]\n",
            " [ 0.52573111 -0.85065081]]\n"
          ],
          "name": "stdout"
        }
      ]
    },
    {
      "cell_type": "code",
      "metadata": {
        "colab": {
          "base_uri": "https://localhost:8080/"
        },
        "id": "7jLhbkVgxuIU",
        "outputId": "e8ea7cf3-c4e3-425a-db11-07aebe90c8e8"
      },
      "source": [
        "# importing numpy library\n",
        "import numpy as np\n",
        "\n",
        "# create numpy 2d-array\n",
        "m = np.array([[1, 2, 3],\n",
        "\t\t\t[2, 3, 4],\n",
        "\t\t\t[4, 5, 6]])\n",
        "\n",
        "print(\"Printing the Original square array:\\n\",m)\n",
        "print()\n",
        "print('***************************************')\n",
        "print()\n",
        "\n",
        "# finding eigenvalues and eigenvectors\n",
        "w, v = np.linalg.eig(m)\n",
        "\n",
        "# printing eigen values\n",
        "print(\"Printing the Eigen values of the given square array:\\n\",w)\n",
        "print()\n",
        "# printing eigen vectors\n",
        "print(\"Printing Right eigenvectors of the given square array:\\n\",v)\n"
      ],
      "execution_count": 9,
      "outputs": [
        {
          "output_type": "stream",
          "text": [
            "Printing the Original square array:\n",
            " [[1 2 3]\n",
            " [2 3 4]\n",
            " [4 5 6]]\n",
            "\n",
            "***************************************\n",
            "\n",
            "Printing the Eigen values of the given square array:\n",
            " [ 1.08309519e+01 -8.30951895e-01 -1.24701000e-16]\n",
            "\n",
            "Printing Right eigenvectors of the given square array:\n",
            " [[ 0.34416959  0.72770285  0.40824829]\n",
            " [ 0.49532111  0.27580256 -0.81649658]\n",
            " [ 0.79762415 -0.62799801  0.40824829]]\n"
          ],
          "name": "stdout"
        }
      ]
    },
    {
      "cell_type": "code",
      "metadata": {
        "id": "lkspdWndzRdz"
      },
      "source": [
        "import tensorflow as tf"
      ],
      "execution_count": 11,
      "outputs": []
    },
    {
      "cell_type": "code",
      "metadata": {
        "colab": {
          "base_uri": "https://localhost:8080/"
        },
        "id": "w3cO6bxo0af8",
        "outputId": "c7cc83fd-2940-4b3c-ec42-8e4e627b1609"
      },
      "source": [
        "# Let's see how we can compute the eigen vectors and values from a matrix\n",
        "\n",
        "e_matrix_A = tf.random.uniform([2, 2], minval=3, maxval=10, dtype=tf.float32, name=\"matrixA\")\n",
        "\n",
        "print(\"Matrix A: \\n{}\\n\\n\".format(e_matrix_A))"
      ],
      "execution_count": 12,
      "outputs": [
        {
          "output_type": "stream",
          "text": [
            "Matrix A: \n",
            "[[6.27765  8.465221]\n",
            " [4.605569 8.253187]]\n",
            "\n",
            "\n"
          ],
          "name": "stdout"
        }
      ]
    },
    {
      "cell_type": "code",
      "metadata": {
        "colab": {
          "base_uri": "https://localhost:8080/"
        },
        "id": "veC44fYd0gE4",
        "outputId": "656ae46c-85d5-4b19-e9c6-3d4ff03fa8d6"
      },
      "source": [
        "# Calculating the eigen values and vectors using tf.linalg.eigh, if you only want the values you can use eigvalsh\n",
        "\n",
        "eigen_values_A, eigen_vectors_A = tf.linalg.eigh(e_matrix_A)\n",
        "\n",
        "print(\"Eigen Vectors: \\n{} \\n\\nEigen Values: \\n{}\\n\".format(eigen_vectors_A, eigen_values_A))"
      ],
      "execution_count": 13,
      "outputs": [
        {
          "output_type": "stream",
          "text": [
            "Eigen Vectors: \n",
            "[[-0.7777222  -0.62860805]\n",
            " [ 0.62860805 -0.7777222 ]] \n",
            "\n",
            "Eigen Values: \n",
            "[ 2.5551157 11.975719 ]\n",
            "\n"
          ],
          "name": "stdout"
        }
      ]
    },
    {
      "cell_type": "code",
      "metadata": {
        "colab": {
          "base_uri": "https://localhost:8080/"
        },
        "id": "qAnp92WZ0qPk",
        "outputId": "9979e143-f72e-40d3-ebd5-a8f9fe83fbed"
      },
      "source": [
        "# Let's see how we can compute the eigen vectors and values from a matrix\n",
        "\n",
        "e_matrix_A = tf.random.uniform([3, 3], minval=3, maxval=10, dtype=tf.float32, name=\"matrixA\")\n",
        "\n",
        "print(\"Matrix A: \\n{}\\n\\n\".format(e_matrix_A))"
      ],
      "execution_count": 15,
      "outputs": [
        {
          "output_type": "stream",
          "text": [
            "Matrix A: \n",
            "[[9.307316  7.0903497 5.7690153]\n",
            " [5.0759497 3.3975215 5.447535 ]\n",
            " [7.1719255 8.190127  8.284345 ]]\n",
            "\n",
            "\n"
          ],
          "name": "stdout"
        }
      ]
    },
    {
      "cell_type": "code",
      "metadata": {
        "colab": {
          "base_uri": "https://localhost:8080/"
        },
        "id": "y1VpeSaE07oo",
        "outputId": "2cbab9b2-023a-4a77-f10c-c806a8f6de09"
      },
      "source": [
        "# Calculating the eigen values and vectors using tf.linalg.eigh, if you only want the values you can use eigvalsh\n",
        "\n",
        "eigen_values_A, eigen_vectors_A = tf.linalg.eigh(e_matrix_A)\n",
        "\n",
        "print(\"Eigen Vectors: \\n{} \\n\\nEigen Values: \\n{}\\n\".format(eigen_vectors_A, eigen_values_A))"
      ],
      "execution_count": 16,
      "outputs": [
        {
          "output_type": "stream",
          "text": [
            "Eigen Vectors: \n",
            "[[ 0.02868362 -0.79877657  0.6009437 ]\n",
            " [ 0.7926157   0.38447934  0.47321904]\n",
            " [-0.6090465   0.46274388  0.64415103]] \n",
            "\n",
            "Eigen Values: \n",
            "[-2.712089  2.709274 20.991999]\n",
            "\n"
          ],
          "name": "stdout"
        }
      ]
    },
    {
      "cell_type": "code",
      "metadata": {
        "id": "SSpLmnfj0-yM"
      },
      "source": [
        ""
      ],
      "execution_count": null,
      "outputs": []
    }
  ]
}